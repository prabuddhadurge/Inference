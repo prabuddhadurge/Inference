{
  "nbformat": 4,
  "nbformat_minor": 0,
  "metadata": {
    "colab": {
      "provenance": [],
      "authorship_tag": "ABX9TyPpuD4ce3UURx9lmZ0pktyq",
      "include_colab_link": true
    },
    "kernelspec": {
      "name": "python3",
      "display_name": "Python 3"
    },
    "language_info": {
      "name": "python"
    }
  },
  "cells": [
    {
      "cell_type": "markdown",
      "metadata": {
        "id": "view-in-github",
        "colab_type": "text"
      },
      "source": [
        "<a href=\"https://colab.research.google.com/github/prabuddhadurge/Inference/blob/main/CleaningInference.ipynb\" target=\"_parent\"><img src=\"https://colab.research.google.com/assets/colab-badge.svg\" alt=\"Open In Colab\"/></a>"
      ]
    },
    {
      "cell_type": "code",
      "execution_count": null,
      "metadata": {
        "id": "CErEYdNhvztV"
      },
      "outputs": [],
      "source": [
        "import pandas as pd\n",
        "import numpy as np"
      ]
    },
    {
      "cell_type": "markdown",
      "source": [],
      "metadata": {
        "id": "u2UBy6_Tsoqp"
      }
    },
    {
      "source": [
        "columns = \"age, workclass, fnlwgt, education, education-num, marital-status, occupation, relationship, race, sex, capital-gain, capital-loss, hours-per-week, native-country, income\"\n",
        "data = pd.read_csv('/content/adult.data', delimiter=',', header=None, names=columns.split(', '))\n",
        "data.to_csv('data.csv', index=False)"
      ],
      "cell_type": "code",
      "metadata": {
        "id": "8Y38uOgUuAv_"
      },
      "execution_count": null,
      "outputs": []
    },
    {
      "cell_type": "code",
      "source": [
        "# Replace '?' with np.nan for easier handling\n",
        "data.replace(' ?', np.nan, inplace=True)\n",
        "\n",
        "# Check for null values in each column\n",
        "null_counts = data.isnull().sum()\n",
        "\n",
        "# Print the columns with null values and their counts\n",
        "print(null_counts[null_counts > 0])"
      ],
      "metadata": {
        "colab": {
          "base_uri": "https://localhost:8080/"
        },
        "id": "DEGMhx4GwSuS",
        "outputId": "7163e290-c5c0-49c1-f7ab-9f9d6d9605cc"
      },
      "execution_count": null,
      "outputs": [
        {
          "output_type": "stream",
          "name": "stdout",
          "text": [
            "Series([], dtype: int64)\n"
          ]
        }
      ]
    },
    {
      "cell_type": "code",
      "source": [
        "# Drop rows with any NaN values\n",
        "data.dropna(inplace=True)\n",
        "\n",
        "# Verify that there are no more NaN values\n",
        "null_counts_after_drop = data.isnull().sum()\n",
        "print(null_counts_after_drop[null_counts_after_drop > 0])"
      ],
      "metadata": {
        "colab": {
          "base_uri": "https://localhost:8080/"
        },
        "id": "2wkQhgMzwit8",
        "outputId": "869c6f74-80ff-4cd6-cd53-c921f741c23c"
      },
      "execution_count": null,
      "outputs": [
        {
          "output_type": "stream",
          "name": "stdout",
          "text": [
            "Series([], dtype: int64)\n"
          ]
        }
      ]
    },
    {
      "cell_type": "code",
      "source": [
        "# Display distinct occupations\n",
        "distinct_occupations = data['occupation'].unique()\n",
        "distinct_occupations"
      ],
      "metadata": {
        "colab": {
          "base_uri": "https://localhost:8080/"
        },
        "id": "VYnojuTj0Nlo",
        "outputId": "b7727fbd-dc34-4663-edca-9f00d9b8e691"
      },
      "execution_count": null,
      "outputs": [
        {
          "output_type": "execute_result",
          "data": {
            "text/plain": [
              "array([' Adm-clerical', ' Exec-managerial', ' Handlers-cleaners',\n",
              "       ' Prof-specialty', ' Other-service', ' Sales', ' Transport-moving',\n",
              "       ' Farming-fishing', ' Machine-op-inspct', ' Tech-support',\n",
              "       ' Craft-repair', ' Protective-serv', ' Armed-Forces',\n",
              "       ' Priv-house-serv'], dtype=object)"
            ]
          },
          "metadata": {},
          "execution_count": 24
        }
      ]
    },
    {
      "cell_type": "code",
      "source": [
        "occupation_mapping = {\n",
        "    ' Handlers-cleaners': 1,\n",
        "    ' Adm-clerical': 2,\n",
        "    ' Other-service': 3,\n",
        "    ' Farming-fishing': 4,\n",
        "    ' Sales': 5,\n",
        "    ' Transport-moving': 6,\n",
        "    ' Machine-op-inspct': 7,\n",
        "    ' Craft-repair': 8,\n",
        "    ' Tech-support': 9,\n",
        "    ' Protective-serv': 10,\n",
        "    ' Priv-house-serv': 11,\n",
        "    ' Armed-Forces': 12,\n",
        "    ' Exec-managerial': 13,\n",
        "    ' Prof-specialty': 14\n",
        "}\n",
        "\n",
        "# Use the map function to create the new column, handling potential KeyError\n",
        "data['occupation-num'] = data['occupation'].map(occupation_mapping).astype(int) # Fill NaN with -1 or any other default value\n",
        "\n",
        "# Display distinct occupations and their corresponding numbers\n",
        "print(data[['occupation', 'occupation-num']])"
      ],
      "metadata": {
        "colab": {
          "base_uri": "https://localhost:8080/"
        },
        "id": "101_TXq-5Lys",
        "outputId": "81e98b0e-dc49-40aa-dc77-7caf4303a271"
      },
      "execution_count": null,
      "outputs": [
        {
          "output_type": "stream",
          "name": "stdout",
          "text": [
            "               occupation  occupation-num\n",
            "0            Adm-clerical               2\n",
            "1         Exec-managerial              13\n",
            "2       Handlers-cleaners               1\n",
            "3       Handlers-cleaners               1\n",
            "4          Prof-specialty              14\n",
            "...                   ...             ...\n",
            "32556        Tech-support               9\n",
            "32557   Machine-op-inspct               7\n",
            "32558        Adm-clerical               2\n",
            "32559        Adm-clerical               2\n",
            "32560     Exec-managerial              13\n",
            "\n",
            "[30162 rows x 2 columns]\n"
          ]
        }
      ]
    },
    {
      "cell_type": "code",
      "source": [
        "#data.isna().sum()\n",
        "data.to_csv('adult_data.csv', index=False)"
      ],
      "metadata": {
        "id": "sRbHk_XtxeFZ"
      },
      "execution_count": null,
      "outputs": []
    }
  ]
}